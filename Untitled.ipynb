{
 "cells": [
  {
   "cell_type": "code",
   "execution_count": 1,
   "id": "1518997a-00b4-4ab9-b045-93a6d81b616e",
   "metadata": {},
   "outputs": [],
   "source": [
    "import requests\n",
    "import pandas as pd\n",
    "import json"
   ]
  },
  {
   "cell_type": "code",
   "execution_count": 2,
   "id": "d78747a1-09a9-42b1-a47f-30100c49ba6f",
   "metadata": {},
   "outputs": [],
   "source": [
    "x = requests.get('https://statsapi.mlb.com/api/v1/schedule/games/?sportId=1&startDate=2022-01-01&endDate=2022-12-31')"
   ]
  },
  {
   "cell_type": "code",
   "execution_count": 3,
   "id": "6b1e7e1f-6927-488f-b9e5-2a8f212ceecc",
   "metadata": {},
   "outputs": [],
   "source": [
    "y= json.loads(x.text)"
   ]
  },
  {
   "cell_type": "code",
   "execution_count": null,
   "id": "16eb8b0a-39bf-4117-a931-0f9b78ee3ffe",
   "metadata": {},
   "outputs": [],
   "source": [
    "y = y['dates']"
   ]
  },
  {
   "cell_type": "code",
   "execution_count": null,
   "id": "7cc8eb74-2a0d-4ad9-9f91-78aa5d0ccd4a",
   "metadata": {},
   "outputs": [],
   "source": [
    "y"
   ]
  },
  {
   "cell_type": "code",
   "execution_count": null,
   "id": "a7caa6f3-7fc8-4053-afb7-fc6a734bc1e3",
   "metadata": {},
   "outputs": [],
   "source": [
    "df = pd.DataFrame.from_dict(y)"
   ]
  },
  {
   "cell_type": "code",
   "execution_count": null,
   "id": "a751f8f5-c753-4b67-91bd-b688f3bdf0fe",
   "metadata": {},
   "outputs": [],
   "source": [
    "df"
   ]
  },
  {
   "cell_type": "code",
   "execution_count": null,
   "id": "3f6894d4-0f93-4831-a41e-371109d6d7d0",
   "metadata": {},
   "outputs": [],
   "source": [
    "df = pd.read_json(y)"
   ]
  },
  {
   "cell_type": "code",
   "execution_count": null,
   "id": "3a019735-4140-4e2b-ac8f-c7a9b26035b0",
   "metadata": {},
   "outputs": [],
   "source": []
  },
  {
   "cell_type": "code",
   "execution_count": null,
   "id": "2ef6a938-7d71-4360-a47c-12dafcc015a1",
   "metadata": {},
   "outputs": [],
   "source": [
    "df['dates']"
   ]
  },
  {
   "cell_type": "code",
   "execution_count": null,
   "id": "022aef95-ba8b-4bf1-95cf-3f2dbf7546ce",
   "metadata": {},
   "outputs": [],
   "source": []
  }
 ],
 "metadata": {
  "kernelspec": {
   "display_name": "Python 3 (ipykernel)",
   "language": "python",
   "name": "python3"
  },
  "language_info": {
   "codemirror_mode": {
    "name": "ipython",
    "version": 3
   },
   "file_extension": ".py",
   "mimetype": "text/x-python",
   "name": "python",
   "nbconvert_exporter": "python",
   "pygments_lexer": "ipython3",
   "version": "3.9.13"
  }
 },
 "nbformat": 4,
 "nbformat_minor": 5
}
