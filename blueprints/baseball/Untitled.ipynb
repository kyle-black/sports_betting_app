{
 "cells": [
  {
   "cell_type": "code",
   "execution_count": 1,
   "id": "c938c30c-dd25-43e3-8932-12127425e448",
   "metadata": {},
   "outputs": [],
   "source": [
    "import pandas as pd"
   ]
  },
  {
   "cell_type": "code",
   "execution_count": 2,
   "id": "79bb367e-af19-4055-a966-6b92c096c1b9",
   "metadata": {},
   "outputs": [],
   "source": [
    "from sql_output import data_pull"
   ]
  },
  {
   "cell_type": "code",
   "execution_count": 3,
   "id": "b69d30ac-2ca5-4b0c-86e8-447a0b6d174e",
   "metadata": {},
   "outputs": [],
   "source": [
    "df= data_pull"
   ]
  },
  {
   "cell_type": "code",
   "execution_count": 5,
   "id": "2702643a-bd59-4a57-876b-c29c94824581",
   "metadata": {},
   "outputs": [
    {
     "data": {
      "text/plain": [
       "Index(['game_id', 'away_tm', 'home_tm', 'game_date', 'home_tm', 'home_bat',\n",
       "       'home_bat_age', 'home_bat_R_G', 'home_bat_G', 'home_bat_PA',\n",
       "       ...\n",
       "       'away_pitch_BF', 'away_pitch_ERA_plus', 'away_pitch_FIP',\n",
       "       'away_pitch_WHIP', 'away_pitch_H9', 'away_pitch_HR9', 'away_pitch_BB9',\n",
       "       'away_pitch_SO9', 'away_pitch_SO_W', 'away_pitch_LOB'],\n",
       "      dtype='object', length=166)"
      ]
     },
     "execution_count": 5,
     "metadata": {},
     "output_type": "execute_result"
    }
   ],
   "source": [
    "df.columns"
   ]
  },
  {
   "cell_type": "code",
   "execution_count": null,
   "id": "d19a7da1-feec-4a02-abd4-656060b72125",
   "metadata": {},
   "outputs": [],
   "source": []
  }
 ],
 "metadata": {
  "kernelspec": {
   "display_name": "Python 3 (ipykernel)",
   "language": "python",
   "name": "python3"
  },
  "language_info": {
   "codemirror_mode": {
    "name": "ipython",
    "version": 3
   },
   "file_extension": ".py",
   "mimetype": "text/x-python",
   "name": "python",
   "nbconvert_exporter": "python",
   "pygments_lexer": "ipython3",
   "version": "3.9.13"
  }
 },
 "nbformat": 4,
 "nbformat_minor": 5
}
